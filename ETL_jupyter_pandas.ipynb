{
 "cells": [
  {
   "cell_type": "code",
   "execution_count": 1,
   "id": "a17e0f9f-4869-47c5-93df-fe5a1ef79cab",
   "metadata": {},
   "outputs": [],
   "source": [
    "import pandas as pd"
   ]
  },
  {
   "cell_type": "code",
   "execution_count": 2,
   "id": "4a211cb0-b6e3-43ab-9597-a5993da20805",
   "metadata": {},
   "outputs": [],
   "source": [
    "def read_files(path, name_file, year_date, type_file):\n",
    "    _file = f'{path}{name_file}{year_date}.{type_file}'\n",
    "\n",
    "    colspecs = [(2,10), (10,12),(12,24), (27,39), (56,69), (69,82),(82,95),(108,121),(152,170),(170,188)]\n",
    "    names = ['data_pregao', 'codbdi', 'sigla_acao','nome_acao','preco_abertura','preco_maximo','preco_minimo','preco_fechamento','qtd_negocios','volume_negocios']\n",
    "    \n",
    "    df = pd.read_fwf(_file, colspecs = colspecs, names=names, skiprows=1)\n",
    "    return df"
   ]
  },
  {
   "cell_type": "code",
   "execution_count": 3,
   "id": "a5acd283-e58f-4833-ae4b-6666aa342d15",
   "metadata": {},
   "outputs": [],
   "source": [
    "#Filtrar ações\n",
    "def filter_stocks(df):\n",
    "    df = df[df['codbdi']==2]\n",
    "    df = df.drop(['codbdi'], axis=1)\n",
    "    return df"
   ]
  },
  {
   "cell_type": "code",
   "execution_count": 4,
   "id": "8b211477-1ad8-4ff4-acaf-ee2aebbfab2e",
   "metadata": {},
   "outputs": [],
   "source": [
    "#ajuste nos campos de dados\n",
    "def parse_date(df):\n",
    "    df['data_pregao'] = pd.to_datetime(df['data_pregao'], format = '%Y%m%d')\n",
    "    return df"
   ]
  },
  {
   "cell_type": "code",
   "execution_count": 5,
   "id": "29575959-bdf6-43f8-bf7f-238d0b9c6a71",
   "metadata": {},
   "outputs": [],
   "source": [
    "#Ajuste dos campos númericos\n",
    "def parse_values(df):\n",
    "    df['preco_abertura'] = (df['preco_abertura'] /100).astype(float)\n",
    "    df['preco_maximo'] = (df['preco_maximo'] /100).astype(float)\n",
    "    df['preco_minimo'] = (df['preco_minimo'] /100).astype(float)\n",
    "    df['preco_fechamento'] = (df['preco_fechamento'] /100).astype(float)\n",
    "    \n",
    "    return df"
   ]
  },
  {
   "cell_type": "code",
   "execution_count": 6,
   "id": "0b0141e7-9c44-4450-9ceb-1377bb724fb1",
   "metadata": {},
   "outputs": [],
   "source": [
    "#Juntando os arquivos\n",
    "def concat_files(path, name_file, year_date, type_file, final_file):\n",
    "    for i, y in enumerate(year_date):\n",
    "        df = read_files(path, name_file,y, type_file)\n",
    "        df = filter_stocks(df)\n",
    "        df = parse_date(df)\n",
    "        df = parse_values(df)\n",
    "\n",
    "        if i == 0: \n",
    "            df_final = df\n",
    "        else:\n",
    "            df_final = pd.concat([df_final,df])\n",
    "\n",
    "    df_final.to_csv(f'{path}//{final_file}', index = False)"
   ]
  },
  {
   "cell_type": "code",
   "execution_count": 7,
   "id": "2ed0ce87-2adf-4389-980e-ebfc2a6c7055",
   "metadata": {},
   "outputs": [],
   "source": [
    "#Executando programa de ETL\n",
    "\n",
    "year_date = ['2024', '2023','2022','2021','2020']\n",
    "path = f'C:/Users/felip/OneDrive/Área de Trabalho/Data E/Project_Bovespa/'\n",
    "name_file = 'COTAHIST_A'\n",
    "type_file = 'txt'\n",
    "final_file = 'all_bovespa.csv'\n",
    "concat_files(path, name_file, year_date, type_file, final_file)"
   ]
  },
  {
   "cell_type": "code",
   "execution_count": null,
   "id": "3523930f-6373-459c-a48d-706b37a61020",
   "metadata": {},
   "outputs": [],
   "source": []
  }
 ],
 "metadata": {
  "kernelspec": {
   "display_name": "Python 3 (ipykernel)",
   "language": "python",
   "name": "python3"
  },
  "language_info": {
   "codemirror_mode": {
    "name": "ipython",
    "version": 3
   },
   "file_extension": ".py",
   "mimetype": "text/x-python",
   "name": "python",
   "nbconvert_exporter": "python",
   "pygments_lexer": "ipython3",
   "version": "3.12.0"
  }
 },
 "nbformat": 4,
 "nbformat_minor": 5
}
